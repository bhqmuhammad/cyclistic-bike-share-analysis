{
 "cells": [
  {
   "cell_type": "markdown",
   "metadata": {},
   "source": [
    "# Cyclistic Bike-Share Analysis\n",
    "\n",
    "## Interactive Data Analysis Notebook\n",
    "\n",
    "This notebook provides an interactive environment for analyzing Cyclistic bike-share data. You can run each cell to execute the analysis step by step and modify parameters as needed.\n",
    "\n",
    "---\n",
    "\n",
    "### Project Overview\n",
    "\n",
    "**Goal**: Analyze how casual riders and annual members use Cyclistic bikes differently to design marketing strategies for converting casual riders into annual members.\n",
    "\n",
    "**Data**: Q1 2019 and Q1 2020 Divvy trip data from Chicago's bike-share system.\n",
    "\n",
    "**Key Questions**:\n",
    "1. How do annual members and casual riders use Cyclistic bikes differently?\n",
    "2. What marketing strategies could convert casual riders to annual members?\n",
    "\n",
    "---"
   ]
  },
  {
   "cell_type": "markdown",
   "metadata": {},
   "source": [
    "## 1. Setup and Data Loading"
   ]
  },
  {
   "cell_type": "code",
   "execution_count": null,
   "metadata": {},
   "outputs": [],
   "source": [
    "# Import required libraries\n",
    "import pandas as pd\n",
    "import numpy as np\n",
    "import matplotlib.pyplot as plt\n",
    "import seaborn as sns\n",
    "import sys\n",
    "from pathlib import Path\n",
    "import warnings\n",
    "warnings.filterwarnings('ignore')\n",
    "\n",
    "# Add src directory to path\n",
    "sys.path.append('../src')\n",
    "\n",
    "# Import our custom modules\n",
    "from cyclistic_analyzer import CyclisticAnalyzer\n",
    "from visualizations import CyclisticVisualizer\n",
    "from data_utils import DataManager\n",
    "\n",
    "print(\"✅ Libraries imported successfully!\")\n",
    "print(\"📊 Ready to analyze Cyclistic data\")"
   ]
  },
  {
   "cell_type": "code",
   "execution_count": null,
   "metadata": {},
   "outputs": [],
   "source": [
    "# Initialize data manager and analyzer\n",
    "data_manager = DataManager()\n",
    "analyzer = CyclisticAnalyzer()\n",
    "\n",
    "print(\"🔧 Data manager and analyzer initialized\")"
   ]
  },
  {
   "cell_type": "code",
   "execution_count": null,
   "metadata": {},
   "outputs": [],
   "source": [
    "# Setup data (this will use sample data if original files are not available)\n",
    "file_2019, file_2020, is_sample = data_manager.setup_data()\n",
    "\n",
    "if is_sample:\n",
    "    print(\"📊 Using sample data for demonstration\")\n",
    "    print(\"ℹ️  To use original data, place CSV files in the data/raw/ directory\")\n",
    "else:\n",
    "    print(\"📊 Using original Divvy trip data\")\n",
    "\n",
    "print(f\"\\nData files:\")\n",
    "print(f\"  - 2019 Q1: {file_2019}\")\n",
    "print(f\"  - 2020 Q1: {file_2020}\")"
   ]
  },
  {
   "cell_type": "markdown",
   "metadata": {},
   "source": [
    "## 2. Data Preparation and Cleaning"
   ]
  },
  {
   "cell_type": "code",
   "execution_count": null,
   "metadata": {},
   "outputs": [],
   "source": [
    "# Prepare data for analysis\n",
    "if file_2019.exists() and file_2020.exists():\n",
    "    analyzer.prepare_data(str(file_2019), str(file_2020))\n",
    "else:\n",
    "    analyzer.prepare_data()  # Use built-in sample data\n",
    "\n",
    "# Display basic information about the dataset\n",
    "print(f\"\\n📈 Dataset Overview:\")\n",
    "print(f\"Total records: {len(analyzer.df_combined):,}\")\n",
    "print(f\"Date range: {analyzer.df_combined['started_at'].min()} to {analyzer.df_combined['started_at'].max()}\")\n",
    "print(f\"Columns: {list(analyzer.df_combined.columns)}\")"
   ]
  },
  {
   "cell_type": "code",
   "execution_count": null,
   "metadata": {},
   "outputs": [],
   "source": [
    "# Display first few rows of the data\n",
    "print(\"📋 Sample of the data:\")\n",
    "analyzer.df_combined.head()"
   ]
  },
  {
   "cell_type": "code",
   "execution_count": null,
   "metadata": {},
   "outputs": [],
   "source": [
    "# Display data summary statistics\n",
    "print(\"📊 Data Summary:\")\n",
    "analyzer.df_combined.describe()"
   ]
  },
  {
   "cell_type": "markdown",
   "metadata": {},
   "source": [
    "## 3. Exploratory Data Analysis"
   ]
  },
  {
   "cell_type": "code",
   "execution_count": null,
   "metadata": {},
   "outputs": [],
   "source": [
    "# Analyze user type distribution\n",
    "user_counts = analyzer.df_combined['member_casual'].value_counts()\n",
    "user_percentages = analyzer.df_combined['member_casual'].value_counts(normalize=True) * 100\n",
    "\n",
    "print(\"👥 User Type Distribution:\")\n",
    "for user_type, count in user_counts.items():\n",
    "    percentage = user_percentages[user_type]\n",
    "    print(f\"  {user_type.title()}: {count:,} rides ({percentage:.1f}%)\")\n",
    "\n",
    "# Create a simple visualization\n",
    "plt.figure(figsize=(8, 6))\n",
    "user_counts.plot(kind='bar', color=['#3B82F6', '#10B981'])\n",
    "plt.title('Distribution of Rides by User Type', fontsize=14, fontweight='bold')\n",
    "plt.ylabel('Number of Rides')\n",
    "plt.xlabel('User Type')\n",
    "plt.xticks(rotation=0)\n",
    "plt.grid(axis='y', alpha=0.3)\n",
    "plt.show()"
   ]
  },
  {
   "cell_type": "markdown",
   "metadata": {},
   "source": [
    "## 4. Ride Duration Analysis"
   ]
  },
  {
   "cell_type": "code",
   "execution_count": null,
   "metadata": {},
   "outputs": [],
   "source": [
    "# Analyze ride duration patterns\n",
    "duration_stats = analyzer.analyze_ride_duration()\n",
    "duration_stats"
   ]
  },
  {
   "cell_type": "code",
   "execution_count": null,
   "metadata": {},
   "outputs": [],
   "source": [
    "# Create duration visualization\n",
    "visualizer = CyclisticVisualizer(analyzer)\n",
    "visualizer.create_duration_comparison_chart()"
   ]
  },
  {
   "cell_type": "markdown",
   "metadata": {},
   "source": [
    "## 5. Weekly Usage Patterns"
   ]
  },
  {
   "cell_type": "code",
   "execution_count": null,
   "metadata": {},
   "outputs": [],
   "source": [
    "# Analyze weekly usage patterns\n",
    "weekly_stats = analyzer.analyze_weekly_patterns()\n",
    "weekly_stats"
   ]
  },
  {
   "cell_type": "code",
   "execution_count": null,
   "metadata": {},
   "outputs": [],
   "source": [
    "# Create weekly usage visualization\n",
    "visualizer.create_weekly_usage_chart()"
   ]
  },
  {
   "cell_type": "markdown",
   "metadata": {},
   "source": [
    "## 6. Hourly Usage Patterns"
   ]
  },
  {
   "cell_type": "code",
   "execution_count": null,
   "metadata": {},
   "outputs": [],
   "source": [
    "# Analyze hourly usage patterns\n",
    "hourly_stats = analyzer.analyze_hourly_patterns()\n",
    "hourly_stats"
   ]
  },
  {
   "cell_type": "code",
   "execution_count": null,
   "metadata": {},
   "outputs": [],
   "source": [
    "# Create hourly usage visualization\n",
    "visualizer.create_hourly_usage_chart()"
   ]
  },
  {
   "cell_type": "markdown",
   "metadata": {},
   "source": [
    "## 7. Comprehensive Analysis"
   ]
  },
  {
   "cell_type": "code",
   "execution_count": null,
   "metadata": {},
   "outputs": [],
   "source": [
    "# Run complete analysis\n",
    "results = analyzer.run_complete_analysis()"
   ]
  },
  {
   "cell_type": "code",
   "execution_count": null,
   "metadata": {},
   "outputs": [],
   "source": [
    "# Display analysis results\n",
    "if results:\n",
    "    print(\"\\n📊 Key Analysis Results:\")\n",
    "    for key, value in results.items():\n",
    "        if isinstance(value, float):\n",
    "            print(f\"  {key}: {value:.2f}\")\n",
    "        elif isinstance(value, int):\n",
    "            print(f\"  {key}: {value:,}\")\n",
    "        else:\n",
    "            print(f\"  {key}: {value}\")"
   ]
  },
  {
   "cell_type": "markdown",
   "metadata": {},
   "source": [
    "## 8. Comprehensive Dashboard"
   ]
  },
  {
   "cell_type": "code",
   "execution_count": null,
   "metadata": {},
   "outputs": [],
   "source": [
    "# Create comprehensive dashboard\n",
    "visualizer.create_comprehensive_dashboard()"
   ]
  },
  {
   "cell_type": "markdown",
   "metadata": {},
   "source": [
    "## 9. Key Insights and Business Recommendations"
   ]
  },
  {
   "cell_type": "code",
   "execution_count": null,
   "metadata": {},
   "outputs": [],
   "source": [
    "# Generate summary report\n",
    "analyzer.generate_summary_report()"
   ]
  },
  {
   "cell_type": "markdown",
   "metadata": {},
   "source": [
    "## 10. Business Recommendations\n",
    "\n",
    "Based on the analysis, here are the key recommendations:\n",
    "\n",
    "### 🎯 Finding #1: Ride Duration Differences\n",
    "- **Casual riders** take significantly longer rides (average ~36 minutes)\n",
    "- **Annual members** take shorter, more functional rides (average ~12 minutes)\n",
    "- **Recommendation**: Target leisure-focused marketing for casual riders\n",
    "\n",
    "### 📅 Finding #2: Weekly Usage Patterns\n",
    "- **Casual riders** heavily favor weekends\n",
    "- **Annual members** show consistent weekday usage (commuting pattern)\n",
    "- **Recommendation**: Create weekend-focused membership tier\n",
    "\n",
    "### 💡 Strategic Recommendations:\n",
    "\n",
    "1. **Weekend Warrior Membership**: Discounted weekend-only membership\n",
    "2. **Commuter Benefits Campaign**: Highlight cost-effectiveness for daily commutes\n",
    "3. **Tiered Membership Options**: Flexible, lower-priced entry points\n",
    "4. **Seasonal Engagement**: Recreational programs to build loyalty\n",
    "\n",
    "### 📈 Expected Impact:\n",
    "- 20-30% conversion rate from casual to member\n",
    "- 25-35% increase in membership revenue\n",
    "- Strengthened market position"
   ]
  },
  {
   "cell_type": "markdown",
   "metadata": {},
   "source": [
    "## 11. Further Analysis (Optional)\n",
    "\n",
    "You can extend this analysis by:\n",
    "\n",
    "1. **Seasonal Analysis**: Compare different quarters or years\n",
    "2. **Geographic Analysis**: Study station-to-station patterns\n",
    "3. **Weather Impact**: Correlate usage with weather data\n",
    "4. **Demographic Analysis**: If age/gender data is available\n",
    "5. **Bike Type Preferences**: Analyze electric vs. classic bike usage\n",
    "\n",
    "Feel free to modify any of the code cells above to dive deeper into specific aspects of the data!"
   ]
  },
  {
   "cell_type": "code",
   "execution_count": null,
   "metadata": {},
   "outputs": [],
   "source": [
    "# Space for additional analysis\n",
    "# Add your custom analysis code here\n",
    "\n",
    "print(\"🎉 Analysis complete!\")\n",
    "print(\"💡 Use the cells above to explore different aspects of the data\")\n",
    "print(\"📊 Modify parameters and re-run cells to see different results\")"
   ]
  }
 ],
 "metadata": {
  "kernelspec": {
   "display_name": "Python 3",
   "language": "python",
   "name": "python3"
  },
  "language_info": {
   "codemirror_mode": {
    "name": "ipython",
    "version": 3
   },
   "file_extension": ".py",
   "mimetype": "text/x-python",
   "name": "python",
   "nbconvert_exporter": "python",
   "pygments_lexer": "ipython3",
   "version": "3.8.5"
  }
 },
 "nbformat": 4,
 "nbformat_minor": 4
}